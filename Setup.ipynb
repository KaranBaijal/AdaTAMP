{
 "cells": [
  {
   "cell_type": "code",
   "execution_count": null,
   "metadata": {},
   "outputs": [],
   "source": [
    "# cd into virtualhome repo\n",
    "from simulation.unity_simulator import comm_unity\n",
    "YOUR_FILE_NAME = \"/Users/sunilbaijal/virtualhome/macos_exec.2.2.4.app\"\n",
    "comm = comm_unity.UnityCommunication(file_name=YOUR_FILE_NAME, port=8080, x_display=\"0\")\n",
    "\n",
    "# Start the first environment\n",
    "comm.reset(0)\n",
    "# Get an image of the first camera\n",
    "success, image = comm.camera_image([0])\n",
    "\n",
    "# Check that the image exists\n",
    "print(image[0].shape)\n",
    "print(success)"
   ]
  },
  {
   "cell_type": "code",
   "execution_count": null,
   "metadata": {},
   "outputs": [],
   "source": [
    "#%matplotlib notebook\n",
    "#!pip install opencv-python\n",
    "#!pip install ipdb\n",
    "import IPython.display\n",
    "import glob\n",
    "from demo.utils_demo import *\n",
    "from sys import platform\n",
    "import sys\n",
    "from PIL import Image\n",
    "import matplotlib.pyplot as plt\n",
    "from tqdm import tqdm\n",
    "\n",
    "#import virtualhome\n",
    "from unity_simulator.comm_unity import UnityCommunication\n",
    "from unity_simulator import utils_viz"
   ]
  },
  {
   "cell_type": "code",
   "execution_count": null,
   "metadata": {},
   "outputs": [],
   "source": [
    "# Visualize some environments\n",
    "# add modalities parameter if needed = 'normal', 'seg_class', 'seg_inst', 'depth', 'surf_normals'\n",
    "comm.reset(0) # Reset to default settings\n",
    "indices = [3, 32, -5, -1, -20, 15, 48, -8, 50, 17]\n",
    "img_final = display_scene_cameras(comm, indices, nrows=2)\n",
    "IPython.display.display(img_final)\n",
    "\n",
    "# Chang position and rotation of the camera (h, w, theta) and add camera\n",
    "#comm.add_camera(position=[-3,1.8,-4], rotation=[30, 120, 0], field_view=60)\n",
    "#comm.update_camera(c-1, position=[-3,1.8,-4], rotation=[20, 120, 0], field_view=80)\n",
    "# Get the last camera\n",
    "#s, c = comm.camera_count()\n",
    "#img_final = display_scene_cameras(comm, [c-1], nrows=1)\n",
    "#IPython.display.display(img_final)"
   ]
  },
  {
   "cell_type": "markdown",
   "metadata": {},
   "source": [
    "The graph is a dictionary with `nodes` and `edges`. Each node corresponds to an object and contains information such as.\n",
    "- class_name: the object_name\n",
    "- states: in which state the object is\n",
    "- id: a number you can use to perform actions over the object \n",
    "\n",
    "The graph also contains bounding box and center information, which may be useful to reason about the environment layout."
   ]
  },
  {
   "cell_type": "markdown",
   "metadata": {},
   "source": [
    "## Adding Objects and Agents"
   ]
  },
  {
   "cell_type": "code",
   "execution_count": null,
   "metadata": {},
   "outputs": [],
   "source": [
    "# Adding a cat\n",
    "imgs_prev = get_scene_cameras(comm, [-4])\n",
    "success, graph = comm.environment_graph();\n",
    "sofa = find_nodes(graph, class_name='sofa')[-1]\n",
    "print(sofa)\n",
    "\n",
    "add_node(graph, {'class_name': 'cat', \n",
    "                   'category': 'Animals', \n",
    "                   'id': 1000, \n",
    "                   'properties': [], \n",
    "                   'states': []})\n",
    "add_edge(graph, 1000, 'ON', sofa['id'])\n",
    "\n",
    "success, message = comm.expand_scene(graph)\n",
    "\n",
    "imgs_final = get_scene_cameras(comm, [-4])\n",
    "display_grid_img(imgs_prev+imgs_final, nrows=1)\n",
    "imgs_prev = imgs_final"
   ]
  },
  {
   "cell_type": "code",
   "execution_count": null,
   "metadata": {},
   "outputs": [],
   "source": [
    "# Adding an agent\n",
    "comm.reset(4)\n",
    "tv_node['states'] = ['OFF']\n",
    "comm.expand_scene(prev_graph)\n",
    "comm.add_character('chars/Female2', initial_room='kitchen')\n",
    "s, g = comm.environment_graph()\n",
    "cat_id = [node['id'] for node in g['nodes'] if node['class_name'] == 'cat'][0]\n",
    "\n",
    "script = ['<char0> [Walk] <sofa> ({})'.format(sofa['id']),\n",
    "          '<char0> [Find] <cat> ({})'.format(cat_id),\n",
    "          '<char0> [Grab] <cat> ({})'.format(cat_id),\n",
    "          '<char0> [Sit] <sofa> ({})'.format(sofa['id'])]\n",
    "\n",
    "success, message = comm.render_script(script=script,\n",
    "                                      processing_time_limit=60,\n",
    "                                      find_solution=False,\n",
    "                                      image_width=320,\n",
    "                                      image_height=240,  \n",
    "                                      skip_animation=False,\n",
    "                                      recording=True,\n",
    "                                      save_pose_data=True,\n",
    "                                      file_name_prefix='relax')\n",
    "\n",
    "# Enter here the path to the video, it should be in the same location where you stored your executable \n",
    "path_video = \"/Users/sunilbaijal/virtualhome/Output\"\n",
    "utils_viz.generate_video(input_path=path_video, prefix='relax', output_path='/Users/sunilbaijal/virtualhome/virtualhome/videos')"
   ]
  },
  {
   "cell_type": "code",
   "execution_count": null,
   "metadata": {},
   "outputs": [],
   "source": [
    "display_vid('/Users/sunilbaijal/virtualhome/virtualhome/videos/video_normal.mp4')"
   ]
  },
  {
   "cell_type": "markdown",
   "metadata": {},
   "source": [
    "Other paramters to render_script are:\n",
    "- script: a list of script lines\n",
    "- randomize_execution: randomly choose elements\n",
    "- random_seed: random seed to use when randomizing execution, -1 means that the seed is not set\n",
    "- find_solution: find solution (True) or use graph ids to determine object instances (False)\n",
    "- processing_time_limit: time limit for finding a solution\n",
    "- skip_execution: skip rendering, only check if a solution exists\n",
    "- output_folder: folder to output renderings, default is Output/\n",
    "- file_name_prefix: prefix of created files (screenshots are put to output_folder/file_name_prefix/)\n",
    "- frame_rate: frame rate\n",
    "- capture_screenshot: save screenshots\n",
    "- image_synthesis: save depth, segmentation, flow images\n",
    "- save_pose_data: save pose data\n",
    "- save_scene_states: save scene states\n",
    "- character_resource: path to character resource to be used\n",
    "- camera_mode: automatic (AUTO), first person (FIRST_PERSON), top (PERSON_TOP), front person view (PERSON_FRONT)"
   ]
  },
  {
   "cell_type": "markdown",
   "metadata": {},
   "source": []
  }
 ],
 "metadata": {
  "language_info": {
   "name": "python"
  }
 },
 "nbformat": 4,
 "nbformat_minor": 2
}
